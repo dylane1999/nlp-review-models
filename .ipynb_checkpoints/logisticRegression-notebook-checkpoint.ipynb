{
 "cells": [
  {
   "cell_type": "code",
   "execution_count": 25,
   "metadata": {
    "collapsed": true
   },
   "outputs": [],
   "source": [
    "import string\n",
    "from os import listdir\n",
    "from os.path import isfile, join\n",
    "\n",
    "import nltk\n",
    "from nltk import word_tokenize\n",
    "from nltk.corpus import opinion_lexicon\n",
    "from nltk.corpus import stopwords\n",
    "from nltk.stem.porter import PorterStemmer\n"
   ]
  },
  {
   "cell_type": "code",
   "execution_count": 26,
   "metadata": {
    "pycharm": {
     "name": "#%%\n"
    }
   },
   "outputs": [
    {
     "name": "stderr",
     "output_type": "stream",
     "text": [
      "[nltk_data] Downloading package opinion_lexicon to\n",
      "[nltk_data]     /Users/dylanedwards/nltk_data...\n",
      "[nltk_data]   Package opinion_lexicon is already up-to-date!\n",
      "[nltk_data] Downloading package stopwords to\n",
      "[nltk_data]     /Users/dylanedwards/nltk_data...\n",
      "[nltk_data]   Package stopwords is already up-to-date!\n",
      "[nltk_data] Downloading package punkt to\n",
      "[nltk_data]     /Users/dylanedwards/nltk_data...\n",
      "[nltk_data]   Package punkt is already up-to-date!\n"
     ]
    },
    {
     "data": {
      "text/plain": [
       "True"
      ]
     },
     "execution_count": 26,
     "metadata": {},
     "output_type": "execute_result"
    }
   ],
   "source": [
    "nltk.download('opinion_lexicon')\n",
    "nltk.download(\"stopwords\")\n",
    "nltk.download(\"punkt\")"
   ]
  },
  {
   "cell_type": "code",
   "execution_count": 68,
   "metadata": {
    "pycharm": {
     "name": "#%%\n"
    }
   },
   "outputs": [],
   "source": [
    "punctuation = string.punctuation\n",
    "positive_dict = set(opinion_lexicon.positive())\n",
    "negative_dict = set(opinion_lexicon.negative())\n",
    "positive_dict_stemmed = [PorterStemmer().stem(word) for word in positive_dict]\n",
    "negative_dict_stemmed = [PorterStemmer().stem(word) for word in negative_dict]\n",
    "\n",
    "def get_files_from_dir(directory):\n",
    "    return [f for f in listdir(directory) if isfile(join(directory, f))]\n",
    "\n",
    "def process_string_sentence(text):\n",
    "        englishStopwords = stopwords.words(\"english\")  # non-neccesary words\n",
    "        text = text.lower()  # case folding\n",
    "        # remove punctuation\n",
    "        text = \"\".join([char for char in text if char not in punctuation])\n",
    "        words = word_tokenize(text)\n",
    "        removed = [word for word in words if word not in englishStopwords]\n",
    "        stemmed = [PorterStemmer().stem(word) for word in removed]\n",
    "        stemmed_sentence = \" \".join(stemmed)\n",
    "        return stemmed_sentence\n",
    "\n",
    "def process_string(text):\n",
    "        englishStopwords = stopwords.words(\"english\")  # non-neccesary words\n",
    "        text = text.lower()  # case folding\n",
    "        # remove punctuation\n",
    "        text = \"\".join([char for char in text if char not in punctuation])\n",
    "        words = word_tokenize(text)\n",
    "        removed = [word for word in words if word not in englishStopwords]\n",
    "        return \" \".join(removed)\n",
    "\n",
    "\n",
    "def tokenize_files(files, dir):\n",
    "        cleaned_positive_files = []\n",
    "        for file in files:\n",
    "            file_path = str.format(\"{}/{}\", dir, file)\n",
    "            with open(file_path) as f:\n",
    "                raw_text = f.read()\n",
    "                cleaned_positive_files.append(process_string(raw_text))\n",
    "        return cleaned_positive_files\n",
    "\n",
    "def is_word_positive(word):\n",
    "        if word in positive_dict or word in positive_dict_stemmed:\n",
    "            return True\n",
    "        return False\n",
    "\n",
    "def is_word_negative(word):\n",
    "    if word in negative_dict or word in negative_dict_stemmed:\n",
    "        return True\n",
    "    return False\n",
    "\n",
    "\n",
    "\n",
    "def get_word_occurrences(tokenized_files):\n",
    "        word_occurrences = {}\n",
    "        word_occurrences[\"positive\"] = 0\n",
    "        word_occurrences[\"negative\"] = 0\n",
    "        total_num_words = 0\n",
    "        for file in tokenized_files:\n",
    "            # calc number exclams\n",
    "            # calc number pos/neg/words\n",
    "            for word in file:\n",
    "                if is_word_positive(word):\n",
    "                    word_occurrences[\"positive\"] += 1\n",
    "                if is_word_negative(word):\n",
    "                    word_occurrences[\"negative\"] += 1\n",
    "                if word not in word_occurrences:\n",
    "                    word_occurrences[word] = 0\n",
    "                word_occurrences[word] += 1\n",
    "                total_num_words += 1\n",
    "        return word_occurrences, total_num_words\n",
    "\n",
    "def get_raw_text_from_files(files: list, dir: str) -> list:\n",
    "    raw_text = []\n",
    "    for file in files:\n",
    "        file_path = str.format(\"{}/{}\", dir, file)\n",
    "        with open(file_path) as f:\n",
    "            file_text_in_lines = f.read()\n",
    "            raw_text.append(file_text_in_lines)\n",
    "    return raw_text"
   ]
  },
  {
   "cell_type": "code",
   "execution_count": 75,
   "metadata": {
    "pycharm": {
     "name": "#%%\n"
    }
   },
   "outputs": [
    {
     "name": "stdout",
     "output_type": "stream",
     "text": [
      "['ordered hp4705 bluetooth keyboard sent two nonbluetooth item send back hope get credit'\n",
      " 'hoping buy small handheld vacuum office computer hardware keyboads air inlets however datavac little power even full charge next useless cant recommend'\n",
      " 'bought 3 vtech phones house since begining battery problems really annoying make phone call phone doesnt work battery point time least one phones constantly reports low charge battery message means cant use phone course hear ring phone never room run pick phone since one location battery problem reviewers noted spite fact make minimal use phones leave charger time beginning used take battery phone put back doesnt quite work anymore tried get support cant get live person vtech number website suggest replacing batteries rechargeable many times really supposed buy new rechargeable baterries already replaced know wont buy vtech products'\n",
      " ...\n",
      " 'bought folks christmas took time hook making dvds simple everything recording tv recording movies shows stored dvr transferring home movies original vhs tapes im sure 300 could purchase higher end recorders 200 really cant go wrong flaw could find initial hookup according book didnt seem quite right taking whole 2 minutes look easy read instructions online everything went smoothly im still going give full 5 starsits 2 whole minutes ruined life really youre new technology youre going problemsbelieve mea'\n",
      " 'purchased monster cable mp hts 1000 without reading reviewswhich dont usually simple reason purchased hdtv samsung hls5687w trying sell 150 much plugged equipment monster first picture sound directv connection allows receive digital analog signals cable connection needs placed monster connection loop switching around cables picture cant really see improvement picture quality hd beautiful bought monster basically protection'\n",
      " 'fabulous product store 700 photos 8 mega pixel range happy purchased one trouble free']\n"
     ]
    }
   ],
   "source": [
    "import numpy as np\n",
    "neg_data = np.array(tokenize_files(get_files_from_dir(\"./data/neg\"), \"data/neg\"))\n",
    "pos_data = np.array(tokenize_files(get_files_from_dir(\"./data/pos\"), \"data/pos\"))\n",
    "allData = np.concatenate((neg_data, pos_data))\n",
    "print(allData)\n",
    "# making labels for the data, the first\n",
    "neg_labels = np.fromiter([0 for i in range(len(neg_data))], int)  # create negative labels\n",
    "pos_labels = np.fromiter([1 for i in range(len(pos_data))], int)  # create positive labels\n",
    "allLabels = np.concatenate((neg_labels, pos_labels))"
   ]
  },
  {
   "cell_type": "code",
   "execution_count": 78,
   "metadata": {
    "pycharm": {
     "name": "#%%\n"
    }
   },
   "outputs": [
    {
     "name": "stdout",
     "output_type": "stream",
     "text": [
      "['ordered hp4705 bluetooth keyboard sent two nonbluetooth item send back hope get credit'\n",
      " 'hoping buy small handheld vacuum office computer hardware keyboads air inlets however datavac little power even full charge next useless cant recommend']\n",
      "None\n",
      "28\n",
      "[' ', '0', '4', '5', '7', 'a', 'b', 'c', 'd', 'e', 'f', 'g', 'h', 'i', 'k', 'l', 'm', 'n', 'o', 'p', 'r', 's', 't', 'u', 'v', 'w', 'x', 'y']\n",
      "28\n"
     ]
    },
    {
     "name": "stderr",
     "output_type": "stream",
     "text": [
      "/Users/dylanedwards/Desktop/oxy-nlp/hw2/venv/lib/python3.8/site-packages/sklearn/utils/deprecation.py:87: FutureWarning: Function get_feature_names is deprecated; get_feature_names is deprecated in 1.0 and will be removed in 1.2. Please use get_feature_names_out instead.\n",
      "  warnings.warn(msg, category=FutureWarning)\n"
     ]
    }
   ],
   "source": [
    "from sklearn.feature_extraction.text import CountVectorizer\n",
    "print(allData[0:2])\n",
    "bow_converter = CountVectorizer(tokenizer=lambda doc: doc)\n",
    "y = bow_converter.fit_transform(allData[0:2])\n",
    "# bigram_converter = CountVectorizer(tokenizer=lambda doc: doc, ngram_range=[2,2])\n",
    "# tfidf_transform = text.TfidfTransformer(norm=None)\n",
    "# X_tfidf = tfidf_transform.fit_transform(X_bow)\n",
    "print(bow_converter.get_stop_words())\n",
    "words = bow_converter.get_feature_names()\n",
    "print(len(words))\n",
    "print(words)\n",
    "print(len(bow_converter.vocabulary_))"
   ]
  },
  {
   "cell_type": "code",
   "execution_count": null,
   "metadata": {
    "pycharm": {
     "name": "#%%\n"
    }
   },
   "outputs": [],
   "source": [
    "from sklearn.linear_model import LogisticRegression\n",
    "\n",
    "def simple_logistic_classify(trainingData, trainingLabels, testingData, testingLabels, description, _C=1.0):\n",
    "    model = LogisticRegression(C=_C).fit(trainingData, trainingLabels)\n",
    "    score = model.score(testingData, testingLabels)\n",
    "    print('Test Score with', description, 'features', score)\n",
    "    return model"
   ]
  },
  {
   "cell_type": "code",
   "execution_count": 84,
   "metadata": {
    "pycharm": {
     "name": "#%%\n"
    }
   },
   "outputs": [
    {
     "name": "stdout",
     "output_type": "stream",
     "text": [
      "trainingLabels: [0 0 0 ... 1 1 1]\n",
      "  (0, 26)\t9\n",
      "  (0, 29)\t4\n",
      "  (0, 15)\t5\n",
      "  (0, 16)\t11\n",
      "  (0, 1)\t12\n",
      "  (0, 19)\t4\n",
      "  (0, 27)\t2\n",
      "  (0, 6)\t1\n",
      "  (0, 9)\t1\n",
      "  (0, 2)\t1\n",
      "  (0, 7)\t1\n",
      "  (0, 13)\t4\n",
      "  (0, 23)\t2\n",
      "  (0, 32)\t2\n",
      "  (0, 31)\t9\n",
      "  (0, 22)\t2\n",
      "  (0, 36)\t1\n",
      "  (0, 12)\t2\n",
      "  (0, 30)\t2\n",
      "  (0, 25)\t4\n",
      "  (0, 34)\t1\n",
      "  (0, 20)\t2\n",
      "  (0, 24)\t1\n",
      "  (0, 14)\t2\n",
      "  (0, 18)\t1\n",
      "  :\t:\n",
      "  (1599, 16)\t45\n",
      "  (1599, 1)\t78\n",
      "  (1599, 19)\t17\n",
      "  (1599, 27)\t5\n",
      "  (1599, 2)\t4\n",
      "  (1599, 7)\t1\n",
      "  (1599, 13)\t4\n",
      "  (1599, 23)\t24\n",
      "  (1599, 32)\t14\n",
      "  (1599, 31)\t26\n",
      "  (1599, 22)\t8\n",
      "  (1599, 36)\t9\n",
      "  (1599, 12)\t17\n",
      "  (1599, 30)\t28\n",
      "  (1599, 25)\t28\n",
      "  (1599, 34)\t7\n",
      "  (1599, 20)\t38\n",
      "  (1599, 24)\t15\n",
      "  (1599, 14)\t12\n",
      "  (1599, 18)\t20\n",
      "  (1599, 33)\t10\n",
      "  (1599, 17)\t6\n",
      "  (1599, 5)\t1\n",
      "  (1599, 28)\t1\n",
      "  (1599, 4)\t3\n",
      "  (0, 27)\t10\n",
      "  (0, 32)\t11\n",
      "  (0, 29)\t20\n",
      "  (0, 14)\t9\n",
      "  (0, 19)\t7\n",
      "  (0, 12)\t19\n",
      "  (0, 30)\t24\n",
      "  (0, 16)\t33\n",
      "  (0, 15)\t9\n",
      "  (0, 1)\t48\n",
      "  (0, 24)\t7\n",
      "  (0, 26)\t25\n",
      "  (0, 18)\t7\n",
      "  (0, 17)\t7\n",
      "  (0, 23)\t16\n",
      "  (0, 31)\t22\n",
      "  (0, 36)\t10\n",
      "  (0, 34)\t6\n",
      "  (0, 20)\t16\n",
      "  (0, 22)\t3\n",
      "  (0, 25)\t13\n",
      "  (0, 13)\t4\n",
      "  (0, 33)\t1\n",
      "  (0, 3)\t1\n",
      "  (0, 10)\t1\n",
      "  :\t:\n",
      "  (398, 9)\t1\n",
      "  (399, 27)\t6\n",
      "  (399, 32)\t5\n",
      "  (399, 29)\t6\n",
      "  (399, 14)\t2\n",
      "  (399, 19)\t3\n",
      "  (399, 12)\t5\n",
      "  (399, 30)\t4\n",
      "  (399, 16)\t9\n",
      "  (399, 15)\t2\n",
      "  (399, 1)\t13\n",
      "  (399, 24)\t1\n",
      "  (399, 26)\t7\n",
      "  (399, 18)\t2\n",
      "  (399, 17)\t2\n",
      "  (399, 23)\t3\n",
      "  (399, 31)\t4\n",
      "  (399, 36)\t1\n",
      "  (399, 20)\t1\n",
      "  (399, 25)\t2\n",
      "  (399, 13)\t2\n",
      "  (399, 10)\t1\n",
      "  (399, 2)\t2\n",
      "  (399, 35)\t1\n",
      "  (399, 9)\t1\n"
     ]
    },
    {
     "name": "stderr",
     "output_type": "stream",
     "text": [
      "/Users/dylanedwards/Desktop/oxy-nlp/hw2/venv/lib/python3.8/site-packages/sklearn/linear_model/_logistic.py:814: ConvergenceWarning: lbfgs failed to converge (status=1):\n",
      "STOP: TOTAL NO. of ITERATIONS REACHED LIMIT.\n",
      "\n",
      "Increase the number of iterations (max_iter) or scale the data as shown in:\n",
      "    https://scikit-learn.org/stable/modules/preprocessing.html\n",
      "Please also refer to the documentation for alternative solver options:\n",
      "    https://scikit-learn.org/stable/modules/linear_model.html#logistic-regression\n",
      "  n_iter_i = _check_optimize_result(\n",
      "/Users/dylanedwards/Desktop/oxy-nlp/hw2/venv/lib/python3.8/site-packages/sklearn/utils/deprecation.py:87: FutureWarning: Function plot_precision_recall_curve is deprecated; Function `plot_precision_recall_curve` is deprecated in 1.0 and will be removed in 1.2. Use one of the class methods: PrecisionRecallDisplay.from_predictions or PrecisionRecallDisplay.from_estimator.\n",
      "  warnings.warn(msg, category=FutureWarning)\n"
     ]
    },
    {
     "name": "stdout",
     "output_type": "stream",
     "text": [
      "trainingLabels: [0 0 0 ... 1 1 1]\n",
      "  (0, 26)\t9\n",
      "  (0, 29)\t4\n",
      "  (0, 15)\t5\n",
      "  (0, 16)\t11\n",
      "  (0, 1)\t12\n",
      "  (0, 19)\t4\n",
      "  (0, 27)\t2\n",
      "  (0, 6)\t1\n",
      "  (0, 9)\t1\n",
      "  (0, 2)\t1\n",
      "  (0, 7)\t1\n",
      "  (0, 13)\t4\n",
      "  (0, 23)\t2\n",
      "  (0, 32)\t2\n",
      "  (0, 31)\t9\n",
      "  (0, 22)\t2\n",
      "  (0, 36)\t1\n",
      "  (0, 12)\t2\n",
      "  (0, 30)\t2\n",
      "  (0, 25)\t4\n",
      "  (0, 34)\t1\n",
      "  (0, 20)\t2\n",
      "  (0, 24)\t1\n",
      "  (0, 14)\t2\n",
      "  (0, 18)\t1\n",
      "  :\t:\n",
      "  (1598, 8)\t1\n",
      "  (1599, 26)\t7\n",
      "  (1599, 29)\t6\n",
      "  (1599, 15)\t2\n",
      "  (1599, 16)\t9\n",
      "  (1599, 1)\t13\n",
      "  (1599, 19)\t3\n",
      "  (1599, 27)\t6\n",
      "  (1599, 9)\t1\n",
      "  (1599, 2)\t2\n",
      "  (1599, 13)\t2\n",
      "  (1599, 23)\t3\n",
      "  (1599, 32)\t5\n",
      "  (1599, 31)\t4\n",
      "  (1599, 36)\t1\n",
      "  (1599, 12)\t5\n",
      "  (1599, 30)\t4\n",
      "  (1599, 25)\t2\n",
      "  (1599, 20)\t1\n",
      "  (1599, 24)\t1\n",
      "  (1599, 14)\t2\n",
      "  (1599, 18)\t2\n",
      "  (1599, 17)\t2\n",
      "  (1599, 35)\t1\n",
      "  (1599, 10)\t1\n",
      "  (0, 12)\t19\n",
      "  (0, 25)\t37\n",
      "  (0, 31)\t16\n",
      "  (0, 17)\t17\n",
      "  (0, 18)\t19\n",
      "  (0, 30)\t44\n",
      "  (0, 0)\t97\n",
      "  (0, 4)\t1\n",
      "  (0, 32)\t7\n",
      "  (0, 15)\t84\n",
      "  (0, 13)\t21\n",
      "  (0, 26)\t24\n",
      "  (0, 24)\t43\n",
      "  (0, 29)\t32\n",
      "  (0, 19)\t25\n",
      "  (0, 11)\t38\n",
      "  (0, 28)\t40\n",
      "  (0, 35)\t14\n",
      "  (0, 22)\t20\n",
      "  (0, 23)\t15\n",
      "  (0, 21)\t8\n",
      "  (0, 14)\t9\n",
      "  (0, 33)\t8\n",
      "  (0, 16)\t1\n",
      "  (0, 27)\t1\n",
      "  :\t:\n",
      "  (399, 25)\t35\n",
      "  (399, 31)\t15\n",
      "  (399, 17)\t8\n",
      "  (399, 18)\t3\n",
      "  (399, 30)\t31\n",
      "  (399, 0)\t74\n",
      "  (399, 32)\t4\n",
      "  (399, 15)\t59\n",
      "  (399, 13)\t24\n",
      "  (399, 26)\t20\n",
      "  (399, 24)\t35\n",
      "  (399, 29)\t22\n",
      "  (399, 19)\t41\n",
      "  (399, 11)\t28\n",
      "  (399, 28)\t27\n",
      "  (399, 35)\t7\n",
      "  (399, 22)\t17\n",
      "  (399, 23)\t11\n",
      "  (399, 21)\t2\n",
      "  (399, 14)\t26\n",
      "  (399, 33)\t5\n",
      "  (399, 16)\t5\n",
      "  (399, 27)\t2\n",
      "  (399, 34)\t3\n",
      "  (399, 20)\t1\n"
     ]
    },
    {
     "name": "stderr",
     "output_type": "stream",
     "text": [
      "/Users/dylanedwards/Desktop/oxy-nlp/hw2/venv/lib/python3.8/site-packages/sklearn/linear_model/_logistic.py:814: ConvergenceWarning: lbfgs failed to converge (status=1):\n",
      "STOP: TOTAL NO. of ITERATIONS REACHED LIMIT.\n",
      "\n",
      "Increase the number of iterations (max_iter) or scale the data as shown in:\n",
      "    https://scikit-learn.org/stable/modules/preprocessing.html\n",
      "Please also refer to the documentation for alternative solver options:\n",
      "    https://scikit-learn.org/stable/modules/linear_model.html#logistic-regression\n",
      "  n_iter_i = _check_optimize_result(\n"
     ]
    },
    {
     "ename": "ValueError",
     "evalue": "X has 38 features, but LogisticRegression is expecting 39 features as input.",
     "output_type": "error",
     "traceback": [
      "\u001b[0;31m---------------------------------------------------------------------------\u001b[0m",
      "\u001b[0;31mValueError\u001b[0m                                Traceback (most recent call last)",
      "\u001b[0;32m/var/folders/zz/yhmtwxfj489c3r52w8d8rqnr0000gn/T/ipykernel_10698/95407153.py\u001b[0m in \u001b[0;36m<module>\u001b[0;34m\u001b[0m\n\u001b[1;32m     27\u001b[0m     \u001b[0;31m# score = model.score(testingData, testingLabels)\u001b[0m\u001b[0;34m\u001b[0m\u001b[0;34m\u001b[0m\u001b[0;34m\u001b[0m\u001b[0m\n\u001b[1;32m     28\u001b[0m     \u001b[0;31m#\u001b[0m\u001b[0;34m\u001b[0m\u001b[0;34m\u001b[0m\u001b[0;34m\u001b[0m\u001b[0m\n\u001b[0;32m---> 29\u001b[0;31m     \u001b[0mlabelPrediction\u001b[0m \u001b[0;34m=\u001b[0m \u001b[0mmodel\u001b[0m\u001b[0;34m.\u001b[0m\u001b[0mpredict_proba\u001b[0m\u001b[0;34m(\u001b[0m\u001b[0mtestingData\u001b[0m\u001b[0;34m)\u001b[0m\u001b[0;34m[\u001b[0m\u001b[0;34m:\u001b[0m\u001b[0;34m,\u001b[0m \u001b[0;36m1\u001b[0m\u001b[0;34m]\u001b[0m\u001b[0;34m\u001b[0m\u001b[0;34m\u001b[0m\u001b[0m\n\u001b[0m\u001b[1;32m     30\u001b[0m     \u001b[0;31m# print(\"label pred\", labelPrediction)\u001b[0m\u001b[0;34m\u001b[0m\u001b[0;34m\u001b[0m\u001b[0;34m\u001b[0m\u001b[0m\n\u001b[1;32m     31\u001b[0m \u001b[0;34m\u001b[0m\u001b[0m\n",
      "\u001b[0;32m~/Desktop/oxy-nlp/hw2/venv/lib/python3.8/site-packages/sklearn/linear_model/_logistic.py\u001b[0m in \u001b[0;36mpredict_proba\u001b[0;34m(self, X)\u001b[0m\n\u001b[1;32m   1668\u001b[0m         )\n\u001b[1;32m   1669\u001b[0m         \u001b[0;32mif\u001b[0m \u001b[0movr\u001b[0m\u001b[0;34m:\u001b[0m\u001b[0;34m\u001b[0m\u001b[0;34m\u001b[0m\u001b[0m\n\u001b[0;32m-> 1670\u001b[0;31m             \u001b[0;32mreturn\u001b[0m \u001b[0msuper\u001b[0m\u001b[0;34m(\u001b[0m\u001b[0;34m)\u001b[0m\u001b[0;34m.\u001b[0m\u001b[0m_predict_proba_lr\u001b[0m\u001b[0;34m(\u001b[0m\u001b[0mX\u001b[0m\u001b[0;34m)\u001b[0m\u001b[0;34m\u001b[0m\u001b[0;34m\u001b[0m\u001b[0m\n\u001b[0m\u001b[1;32m   1671\u001b[0m         \u001b[0;32melse\u001b[0m\u001b[0;34m:\u001b[0m\u001b[0;34m\u001b[0m\u001b[0;34m\u001b[0m\u001b[0m\n\u001b[1;32m   1672\u001b[0m             \u001b[0mdecision\u001b[0m \u001b[0;34m=\u001b[0m \u001b[0mself\u001b[0m\u001b[0;34m.\u001b[0m\u001b[0mdecision_function\u001b[0m\u001b[0;34m(\u001b[0m\u001b[0mX\u001b[0m\u001b[0;34m)\u001b[0m\u001b[0;34m\u001b[0m\u001b[0;34m\u001b[0m\u001b[0m\n",
      "\u001b[0;32m~/Desktop/oxy-nlp/hw2/venv/lib/python3.8/site-packages/sklearn/linear_model/_base.py\u001b[0m in \u001b[0;36m_predict_proba_lr\u001b[0;34m(self, X)\u001b[0m\n\u001b[1;32m    437\u001b[0m         \u001b[0mmulticlass\u001b[0m \u001b[0;32mis\u001b[0m \u001b[0mhandled\u001b[0m \u001b[0mby\u001b[0m \u001b[0mnormalizing\u001b[0m \u001b[0mthat\u001b[0m \u001b[0mover\u001b[0m \u001b[0mall\u001b[0m \u001b[0mclasses\u001b[0m\u001b[0;34m.\u001b[0m\u001b[0;34m\u001b[0m\u001b[0;34m\u001b[0m\u001b[0m\n\u001b[1;32m    438\u001b[0m         \"\"\"\n\u001b[0;32m--> 439\u001b[0;31m         \u001b[0mprob\u001b[0m \u001b[0;34m=\u001b[0m \u001b[0mself\u001b[0m\u001b[0;34m.\u001b[0m\u001b[0mdecision_function\u001b[0m\u001b[0;34m(\u001b[0m\u001b[0mX\u001b[0m\u001b[0;34m)\u001b[0m\u001b[0;34m\u001b[0m\u001b[0;34m\u001b[0m\u001b[0m\n\u001b[0m\u001b[1;32m    440\u001b[0m         \u001b[0mexpit\u001b[0m\u001b[0;34m(\u001b[0m\u001b[0mprob\u001b[0m\u001b[0;34m,\u001b[0m \u001b[0mout\u001b[0m\u001b[0;34m=\u001b[0m\u001b[0mprob\u001b[0m\u001b[0;34m)\u001b[0m\u001b[0;34m\u001b[0m\u001b[0;34m\u001b[0m\u001b[0m\n\u001b[1;32m    441\u001b[0m         \u001b[0;32mif\u001b[0m \u001b[0mprob\u001b[0m\u001b[0;34m.\u001b[0m\u001b[0mndim\u001b[0m \u001b[0;34m==\u001b[0m \u001b[0;36m1\u001b[0m\u001b[0;34m:\u001b[0m\u001b[0;34m\u001b[0m\u001b[0;34m\u001b[0m\u001b[0m\n",
      "\u001b[0;32m~/Desktop/oxy-nlp/hw2/venv/lib/python3.8/site-packages/sklearn/linear_model/_base.py\u001b[0m in \u001b[0;36mdecision_function\u001b[0;34m(self, X)\u001b[0m\n\u001b[1;32m    405\u001b[0m         \u001b[0mcheck_is_fitted\u001b[0m\u001b[0;34m(\u001b[0m\u001b[0mself\u001b[0m\u001b[0;34m)\u001b[0m\u001b[0;34m\u001b[0m\u001b[0;34m\u001b[0m\u001b[0m\n\u001b[1;32m    406\u001b[0m \u001b[0;34m\u001b[0m\u001b[0m\n\u001b[0;32m--> 407\u001b[0;31m         \u001b[0mX\u001b[0m \u001b[0;34m=\u001b[0m \u001b[0mself\u001b[0m\u001b[0;34m.\u001b[0m\u001b[0m_validate_data\u001b[0m\u001b[0;34m(\u001b[0m\u001b[0mX\u001b[0m\u001b[0;34m,\u001b[0m \u001b[0maccept_sparse\u001b[0m\u001b[0;34m=\u001b[0m\u001b[0;34m\"csr\"\u001b[0m\u001b[0;34m,\u001b[0m \u001b[0mreset\u001b[0m\u001b[0;34m=\u001b[0m\u001b[0;32mFalse\u001b[0m\u001b[0;34m)\u001b[0m\u001b[0;34m\u001b[0m\u001b[0;34m\u001b[0m\u001b[0m\n\u001b[0m\u001b[1;32m    408\u001b[0m         \u001b[0mscores\u001b[0m \u001b[0;34m=\u001b[0m \u001b[0msafe_sparse_dot\u001b[0m\u001b[0;34m(\u001b[0m\u001b[0mX\u001b[0m\u001b[0;34m,\u001b[0m \u001b[0mself\u001b[0m\u001b[0;34m.\u001b[0m\u001b[0mcoef_\u001b[0m\u001b[0;34m.\u001b[0m\u001b[0mT\u001b[0m\u001b[0;34m,\u001b[0m \u001b[0mdense_output\u001b[0m\u001b[0;34m=\u001b[0m\u001b[0;32mTrue\u001b[0m\u001b[0;34m)\u001b[0m \u001b[0;34m+\u001b[0m \u001b[0mself\u001b[0m\u001b[0;34m.\u001b[0m\u001b[0mintercept_\u001b[0m\u001b[0;34m\u001b[0m\u001b[0;34m\u001b[0m\u001b[0m\n\u001b[1;32m    409\u001b[0m         \u001b[0;32mreturn\u001b[0m \u001b[0mscores\u001b[0m\u001b[0;34m.\u001b[0m\u001b[0mravel\u001b[0m\u001b[0;34m(\u001b[0m\u001b[0;34m)\u001b[0m \u001b[0;32mif\u001b[0m \u001b[0mscores\u001b[0m\u001b[0;34m.\u001b[0m\u001b[0mshape\u001b[0m\u001b[0;34m[\u001b[0m\u001b[0;36m1\u001b[0m\u001b[0;34m]\u001b[0m \u001b[0;34m==\u001b[0m \u001b[0;36m1\u001b[0m \u001b[0;32melse\u001b[0m \u001b[0mscores\u001b[0m\u001b[0;34m\u001b[0m\u001b[0;34m\u001b[0m\u001b[0m\n",
      "\u001b[0;32m~/Desktop/oxy-nlp/hw2/venv/lib/python3.8/site-packages/sklearn/base.py\u001b[0m in \u001b[0;36m_validate_data\u001b[0;34m(self, X, y, reset, validate_separately, **check_params)\u001b[0m\n\u001b[1;32m    574\u001b[0m \u001b[0;34m\u001b[0m\u001b[0m\n\u001b[1;32m    575\u001b[0m         \u001b[0;32mif\u001b[0m \u001b[0;32mnot\u001b[0m \u001b[0mno_val_X\u001b[0m \u001b[0;32mand\u001b[0m \u001b[0mcheck_params\u001b[0m\u001b[0;34m.\u001b[0m\u001b[0mget\u001b[0m\u001b[0;34m(\u001b[0m\u001b[0;34m\"ensure_2d\"\u001b[0m\u001b[0;34m,\u001b[0m \u001b[0;32mTrue\u001b[0m\u001b[0;34m)\u001b[0m\u001b[0;34m:\u001b[0m\u001b[0;34m\u001b[0m\u001b[0;34m\u001b[0m\u001b[0m\n\u001b[0;32m--> 576\u001b[0;31m             \u001b[0mself\u001b[0m\u001b[0;34m.\u001b[0m\u001b[0m_check_n_features\u001b[0m\u001b[0;34m(\u001b[0m\u001b[0mX\u001b[0m\u001b[0;34m,\u001b[0m \u001b[0mreset\u001b[0m\u001b[0;34m=\u001b[0m\u001b[0mreset\u001b[0m\u001b[0;34m)\u001b[0m\u001b[0;34m\u001b[0m\u001b[0;34m\u001b[0m\u001b[0m\n\u001b[0m\u001b[1;32m    577\u001b[0m \u001b[0;34m\u001b[0m\u001b[0m\n\u001b[1;32m    578\u001b[0m         \u001b[0;32mreturn\u001b[0m \u001b[0mout\u001b[0m\u001b[0;34m\u001b[0m\u001b[0;34m\u001b[0m\u001b[0m\n",
      "\u001b[0;32m~/Desktop/oxy-nlp/hw2/venv/lib/python3.8/site-packages/sklearn/base.py\u001b[0m in \u001b[0;36m_check_n_features\u001b[0;34m(self, X, reset)\u001b[0m\n\u001b[1;32m    393\u001b[0m \u001b[0;34m\u001b[0m\u001b[0m\n\u001b[1;32m    394\u001b[0m         \u001b[0;32mif\u001b[0m \u001b[0mn_features\u001b[0m \u001b[0;34m!=\u001b[0m \u001b[0mself\u001b[0m\u001b[0;34m.\u001b[0m\u001b[0mn_features_in_\u001b[0m\u001b[0;34m:\u001b[0m\u001b[0;34m\u001b[0m\u001b[0;34m\u001b[0m\u001b[0m\n\u001b[0;32m--> 395\u001b[0;31m             raise ValueError(\n\u001b[0m\u001b[1;32m    396\u001b[0m                 \u001b[0;34mf\"X has {n_features} features, but {self.__class__.__name__} \"\u001b[0m\u001b[0;34m\u001b[0m\u001b[0;34m\u001b[0m\u001b[0m\n\u001b[1;32m    397\u001b[0m                 \u001b[0;34mf\"is expecting {self.n_features_in_} features as input.\"\u001b[0m\u001b[0;34m\u001b[0m\u001b[0;34m\u001b[0m\u001b[0m\n",
      "\u001b[0;31mValueError\u001b[0m: X has 38 features, but LogisticRegression is expecting 39 features as input."
     ]
    },
    {
     "data": {
      "image/png": "[encoded data removed]",
      "text/plain": [
       "<Figure size 432x288 with 1 Axes>"
      ]
     },
     "metadata": {
      "needs_background": "light"
     },
     "output_type": "display_data"
    }
   ],
   "source": [
    "from sklearn.model_selection import KFold\n",
    "from sklearn.naive_bayes import GaussianNB\n",
    "from sklearn.metrics import precision_recall_curve\n",
    "from sklearn.metrics import average_precision_score\n",
    "from sklearn.metrics import plot_precision_recall_curve\n",
    "from sklearn.linear_model import LogisticRegression\n",
    "\n",
    "kf = KFold(n_splits=5, shuffle=True)\n",
    "#Unsupervised smooth-inverse frequency (uSIF) weighted sentence embeddings model.\n",
    "\n",
    "\n",
    "for trainingIndex, testingIndex in kf.split(allData):\n",
    "    trainingData, testingData = allData[trainingIndex], allData[testingIndex]\n",
    "    trainingLabels, testingLabels = allLabels[trainingIndex], allLabels[testingIndex]\n",
    "\n",
    "    print(\"trainingLabels:\", trainingLabels)\n",
    "    # train naive bayes model\n",
    "    # gnb = GaussianNB()\n",
    "    # gnb.fit(train_embed, trainingLabels)\n",
    "    bow_converter = CountVectorizer(tokenizer=lambda doc: doc)\n",
    "    trainingData = bow_converter.fit_transform(trainingData)\n",
    "    testingData = bow_converter.fit_transform(testingData)\n",
    "    print(trainingData)\n",
    "    print(testingData)\n",
    "    model = LogisticRegression(C=1.0).fit(trainingData, trainingLabels)\n",
    "\n",
    "    # score = model.score(testingData, testingLabels)\n",
    "    #\n",
    "    labelPrediction = model.predict_proba(testingData)[:, 1]\n",
    "    # print(\"label pred\", labelPrediction)\n",
    "\n",
    "    precision, recall, thresholds = precision_recall_curve(testingLabels, labelPrediction)\n",
    "    average_precision = average_precision_score(testingLabels, labelPrediction)\n",
    "\n",
    "    disp = plot_precision_recall_curve(model, testingData, testingLabels)\n",
    "    disp.ax_.set_title('2-class Precision-Recall curve: '\n",
    "                       'AP={0:0.2f}'.format(average_precision))\n",
    "\n",
    "# from sklearn.feature_extraction.text import CountVectorizer\n",
    "# print(allData[0:2])\n",
    "# bow_converter = CountVectorizer(tokenizer=lambda doc: doc)\n",
    "# y = bow_converter.fit_transform(allData[0:2])\n",
    "# # bigram_converter = CountVectorizer(tokenizer=lambda doc: doc, ngram_range=[2,2])\n",
    "# # tfidf_transform = text.TfidfTransformer(norm=None)\n",
    "# # X_tfidf = tfidf_transform.fit_transform(X_bow)\n",
    "# print(bow_converter.get_stop_words())\n",
    "# words = bow_converter.get_feature_names()\n",
    "# print(len(words))\n",
    "# print(words)\n",
    "# print(len(bow_converter.vocabulary_))"
   ]
  },
  {
   "cell_type": "code",
   "execution_count": null,
   "metadata": {},
   "outputs": [],
   "source": []
  }
 ],
 "metadata": {
  "kernelspec": {
   "display_name": "Python 3 (ipykernel)",
   "language": "python",
   "name": "python3"
  },
  "language_info": {
   "codemirror_mode": {
    "name": "ipython",
    "version": 3
   },
   "file_extension": ".py",
   "mimetype": "text/x-python",
   "name": "python",
   "nbconvert_exporter": "python",
   "pygments_lexer": "ipython3",
   "version": "3.8.0"
  }
 },
 "nbformat": 4,
 "nbformat_minor": 1
}
